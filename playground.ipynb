{
 "cells": [
  {
   "cell_type": "code",
   "execution_count": 1,
   "metadata": {},
   "outputs": [],
   "source": [
    "from pathlib import Path\n",
    "\n",
    "from pydantic import Field\n",
    "\n",
    "from confflow import Config, ConfigManager\n"
   ]
  },
  {
   "cell_type": "code",
   "execution_count": 2,
   "metadata": {},
   "outputs": [],
   "source": [
    "class MyModel(Config):\n",
    "    name: str = Field(..., max_length=5, description=\"The name of the person\")\n",
    "    test: str = Field()\n",
    "    age: int = 30\n",
    "    email: str\n",
    "\n",
    "class Exclusive1(Config):\n",
    "    name: str = Field(..., max_length=5, description=\"The name of the person\")\n",
    "    test: str = Field()\n",
    "    age: int = 30\n",
    "    email: str\n",
    "\n",
    "class Exclusive2(Config):\n",
    "    name: str = Field(..., max_length=5, description=\"The name of the person\")\n",
    "    test: str = Field()\n",
    "    age: int = 30\n",
    "    email: str"
   ]
  },
  {
   "cell_type": "code",
   "execution_count": 3,
   "metadata": {},
   "outputs": [],
   "source": [
    "confi = ConfigManager()\n",
    "confi.set_mutual_exclusive_groups([[\"Exclusive1\", \"Exclusive2\"]])"
   ]
  },
  {
   "cell_type": "code",
   "execution_count": 4,
   "metadata": {},
   "outputs": [],
   "source": [
    "confi.create_template(output_path=Path('template_config.yaml'))"
   ]
  },
  {
   "cell_type": "code",
   "execution_count": 5,
   "metadata": {},
   "outputs": [],
   "source": [
    "confi._path = Path('config.yaml')"
   ]
  },
  {
   "cell_type": "code",
   "execution_count": 6,
   "metadata": {},
   "outputs": [
    {
     "ename": "ValueError",
     "evalue": "Mutually exclusive conflict: Multiple configurations from the group ['Exclusive1', 'Exclusive2'] are loaded: ['Exclusive1', 'Exclusive2']",
     "output_type": "error",
     "traceback": [
      "\u001b[0;31m---------------------------------------------------------------------------\u001b[0m",
      "\u001b[0;31mValueError\u001b[0m                                Traceback (most recent call last)",
      "Cell \u001b[0;32mIn[6], line 1\u001b[0m\n\u001b[0;32m----> 1\u001b[0m \u001b[43mconfi\u001b[49m\u001b[38;5;241;43m.\u001b[39;49m\u001b[43mload_yaml\u001b[49m\u001b[43m(\u001b[49m\u001b[43m)\u001b[49m\n",
      "File \u001b[0;32m~/Development/confflow/confflow/config_manager/config_manager.py:95\u001b[0m, in \u001b[0;36mConfigManager.load_yaml\u001b[0;34m(self)\u001b[0m\n\u001b[1;32m     93\u001b[0m         active_configs \u001b[38;5;241m=\u001b[39m [name \u001b[38;5;28;01mfor\u001b[39;00m name \u001b[38;5;129;01min\u001b[39;00m group \u001b[38;5;28;01mif\u001b[39;00m name \u001b[38;5;129;01min\u001b[39;00m loaded_config_names]\n\u001b[1;32m     94\u001b[0m         \u001b[38;5;28;01mif\u001b[39;00m \u001b[38;5;28mlen\u001b[39m(active_configs) \u001b[38;5;241m>\u001b[39m \u001b[38;5;241m1\u001b[39m:\n\u001b[0;32m---> 95\u001b[0m             \u001b[38;5;28;01mraise\u001b[39;00m \u001b[38;5;167;01mValueError\u001b[39;00m(\n\u001b[1;32m     96\u001b[0m                 \u001b[38;5;124mf\u001b[39m\u001b[38;5;124m\"\u001b[39m\u001b[38;5;124mMutually exclusive conflict: Multiple configurations from the group \u001b[39m\u001b[38;5;132;01m{\u001b[39;00mgroup\u001b[38;5;132;01m}\u001b[39;00m\u001b[38;5;124m are loaded: \u001b[39m\u001b[38;5;132;01m{\u001b[39;00mactive_configs\u001b[38;5;132;01m}\u001b[39;00m\u001b[38;5;124m\"\u001b[39m\n\u001b[1;32m     97\u001b[0m             )\n\u001b[1;32m     99\u001b[0m \u001b[38;5;28;01mfor\u001b[39;00m config_name, config_data \u001b[38;5;129;01min\u001b[39;00m raw_configs\u001b[38;5;241m.\u001b[39mitems():\n\u001b[1;32m    100\u001b[0m     config_class: Optional[Type[Config]] \u001b[38;5;241m=\u001b[39m \u001b[38;5;28mself\u001b[39m\u001b[38;5;241m.\u001b[39m_schema_map\u001b[38;5;241m.\u001b[39mget(config_name)\n",
      "\u001b[0;31mValueError\u001b[0m: Mutually exclusive conflict: Multiple configurations from the group ['Exclusive1', 'Exclusive2'] are loaded: ['Exclusive1', 'Exclusive2']"
     ]
    }
   ],
   "source": [
    "confi.load_yaml()"
   ]
  },
  {
   "cell_type": "code",
   "execution_count": null,
   "metadata": {},
   "outputs": [],
   "source": [
    "confi.save_config(Path('config.yaml'))"
   ]
  },
  {
   "cell_type": "code",
   "execution_count": null,
   "metadata": {},
   "outputs": [],
   "source": [
    "my_model_config = confi['MyModel']"
   ]
  },
  {
   "cell_type": "code",
   "execution_count": null,
   "metadata": {},
   "outputs": [],
   "source": [
    "from ruamel.yaml import YAML\n",
    "from pathlib import Path\n",
    "\n",
    "yaml = YAML()\n",
    "yaml.preserve_quotes = True  # Preserve quotes if required\n",
    "yaml.pereserve_\n",
    "\n",
    "with Path(\"./config.yaml\").open(\"r\") as file:\n",
    "    raw_configs = yaml.load(file)"
   ]
  },
  {
   "cell_type": "code",
   "execution_count": null,
   "metadata": {},
   "outputs": [],
   "source": [
    "raw_configs"
   ]
  },
  {
   "cell_type": "code",
   "execution_count": null,
   "metadata": {},
   "outputs": [],
   "source": [
    "a = []\n",
    "if a:\n",
    "    print('empty')\n",
    "else: \n",
    "    print('not empty')"
   ]
  },
  {
   "cell_type": "code",
   "execution_count": null,
   "metadata": {},
   "outputs": [],
   "source": []
  }
 ],
 "metadata": {
  "kernelspec": {
   "display_name": "confflow-d0DuQGJT-py3.10",
   "language": "python",
   "name": "python3"
  },
  "language_info": {
   "codemirror_mode": {
    "name": "ipython",
    "version": 3
   },
   "file_extension": ".py",
   "mimetype": "text/x-python",
   "name": "python",
   "nbconvert_exporter": "python",
   "pygments_lexer": "ipython3",
   "version": "3.10.15"
  }
 },
 "nbformat": 4,
 "nbformat_minor": 2
}
