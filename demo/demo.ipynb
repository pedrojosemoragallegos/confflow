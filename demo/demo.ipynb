{
 "cells": [
  {
   "cell_type": "markdown",
   "metadata": {},
   "source": [
    "# Confflow Demo"
   ]
  },
  {
   "cell_type": "markdown",
   "metadata": {},
   "source": [
    "## Imports"
   ]
  },
  {
   "cell_type": "code",
   "execution_count": null,
   "metadata": {},
   "outputs": [],
   "source": [
    "from typing import Literal, Optional\n",
    "\n",
    "from confflow import BaseConfig, Field, config_manager"
   ]
  },
  {
   "cell_type": "markdown",
   "metadata": {},
   "source": [
    "# Settings"
   ]
  },
  {
   "cell_type": "code",
   "execution_count": null,
   "metadata": {},
   "outputs": [],
   "source": [
    "class CommonSettings(BaseConfig):\n",
    "    name: str = Field(..., min_length=3, max_length=50, description=\"The name of the configuration.\")\n",
    "    enabled: bool = Field(default=True, description=\"Indicates if this configuration is enabled.\")\n",
    "    priority: int = Field(default=1, ge=1, le=10, description=\"Priority level, must be between 1 and 10.\")\n",
    "\n",
    "\n",
    "class DatabaseConfig(BaseConfig):\n",
    "    db_url: str = Field(..., pattern=r\"^(postgres|mysql|sqlite)://\", description=\"Database connection URL.\")\n",
    "    max_connections: int = Field(default=10, ge=1, le=100, description=\"Max number of connections.\")\n",
    "    timeout: Optional[int] = Field(default=30, ge=10, le=300, description=\"Timeout in seconds.\")\n",
    "\n",
    "\n",
    "class APIConfig(BaseConfig):\n",
    "    endpoint: str = Field(..., pattern=r\"^https?://\", description=\"API endpoint URL.\")\n",
    "    auth_token: Optional[str] = Field(None, description=\"Optional authentication token.\")\n",
    "    retries: int = Field(default=3, ge=0, le=10, description=\"Number of retries in case of failure.\")\n",
    "\n",
    "\n",
    "class FeatureFlags(BaseConfig):\n",
    "    experimental_feature: bool = Field(default=False, description=\"Toggle for experimental feature.\")\n",
    "    legacy_mode: bool = Field(default=False, description=\"Enable legacy mode for backward compatibility.\")\n",
    "\n",
    "\n",
    "# Mutually Exclusive Models\n",
    "class FileStorageConfig(BaseConfig):\n",
    "    storage_path: str = Field(..., description=\"Path to the storage directory.\")\n",
    "    max_size_mb: int = Field(default=100, ge=10, le=1024, description=\"Maximum storage size in MB.\")\n",
    "    backup_enabled: bool = Field(default=True, description=\"Enable backup for stored files.\")\n",
    "\n",
    "\n",
    "class CloudStorageConfig(BaseConfig):\n",
    "    provider: Literal['aws', 'gcp', 'azure'] = Field(..., description=\"Cloud storage provider.\")\n",
    "    bucket_name: str = Field(..., min_length=3, description=\"Name of the cloud storage bucket.\")\n",
    "    region: Optional[str] = Field(None, description=\"Optional region of the cloud storage bucket.\")"
   ]
  },
  {
   "cell_type": "code",
   "execution_count": null,
   "metadata": {},
   "outputs": [],
   "source": [
    "config_manager.register_schemas(\n",
    "    CommonSettings,\n",
    "    FeatureFlags,\n",
    "    CloudStorageConfig,\n",
    "    DatabaseConfig\n",
    ")"
   ]
  },
  {
   "cell_type": "code",
   "execution_count": null,
   "metadata": {},
   "outputs": [],
   "source": [
    "config_manager.set_mutual_exclusive_groups([CloudStorageConfig, DatabaseConfig])"
   ]
  },
  {
   "cell_type": "code",
   "execution_count": null,
   "metadata": {},
   "outputs": [],
   "source": [
    "config_manager.create_template(\"template_config.yml\")"
   ]
  },
  {
   "cell_type": "code",
   "execution_count": null,
   "metadata": {},
   "outputs": [],
   "source": [
    "config_manager.load_yaml(\"config.yml\")"
   ]
  },
  {
   "cell_type": "code",
   "execution_count": null,
   "metadata": {},
   "outputs": [],
   "source": [
    "config_manager[\"CommonSettings\"]"
   ]
  },
  {
   "cell_type": "code",
   "execution_count": null,
   "metadata": {},
   "outputs": [],
   "source": [
    "config_manager[\"CommonSettings\"][\"enabled\"]"
   ]
  }
 ],
 "metadata": {
  "kernelspec": {
   "display_name": "confflow-d0DuQGJT-py3.10",
   "language": "python",
   "name": "python3"
  },
  "language_info": {
   "codemirror_mode": {
    "name": "ipython",
    "version": 3
   },
   "file_extension": ".py",
   "mimetype": "text/x-python",
   "name": "python",
   "nbconvert_exporter": "python",
   "pygments_lexer": "ipython3",
   "version": "3.10.16"
  }
 },
 "nbformat": 4,
 "nbformat_minor": 2
}
