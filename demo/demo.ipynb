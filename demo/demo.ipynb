{
 "cells": [
  {
   "cell_type": "markdown",
   "metadata": {},
   "source": [
    "# Confflow Demo"
   ]
  },
  {
   "cell_type": "markdown",
   "metadata": {},
   "source": [
    "## Imports"
   ]
  },
  {
   "cell_type": "code",
   "execution_count": 1,
   "metadata": {},
   "outputs": [],
   "source": [
    "from typing import Literal, Optional\n",
    "\n",
    "from confflow import BaseSchema, SchemaField, confflow"
   ]
  },
  {
   "cell_type": "markdown",
   "metadata": {},
   "source": [
    "## Schema as Code"
   ]
  },
  {
   "cell_type": "code",
   "execution_count": 2,
   "metadata": {},
   "outputs": [],
   "source": [
    "class CommonSettings(BaseSchema):\n",
    "    name: str = SchemaField(..., min_length=3, max_length=50, description=\"The name of the configuration.\")\n",
    "    enabled: bool = SchemaField(default=True, description=\"Indicates if this configuration is enabled.\")\n",
    "    priority: int = SchemaField(default=1, ge=1, le=10, description=\"Priority level, must be between 1 and 10.\")\n",
    "\n",
    "\n",
    "class DatabaseConfig(BaseSchema):\n",
    "    db_url: str = SchemaField(..., pattern=r\"^(postgres|mysql|sqlite)://\", description=\"Database connection URL.\")\n",
    "    max_connections: int = SchemaField(default=10, ge=1, le=100, description=\"Max number of connections.\")\n",
    "    timeout: Optional[int] = SchemaField(default=30, ge=10, le=300, description=\"Timeout in seconds.\")\n",
    "\n",
    "\n",
    "class APIConfig(BaseSchema):\n",
    "    endpoint: str = SchemaField(..., pattern=r\"^https?://\", description=\"API endpoint URL.\")\n",
    "    auth_token: Optional[str] = SchemaField(None, description=\"Optional authentication token.\")\n",
    "    retries: int = SchemaField(default=3, ge=0, le=10, description=\"Number of retries in case of failure.\")\n",
    "\n",
    "\n",
    "class FeatureFlags(BaseSchema):\n",
    "    experimental_feature: bool = SchemaField(default=False, description=\"Toggle for experimental feature.\")\n",
    "    legacy_mode: bool = SchemaField(default=False, description=\"Enable legacy mode for backward compatibility.\")\n",
    "\n",
    "\n",
    "# Mutually Exclusive Models\n",
    "class FileStorageConfig(BaseSchema):\n",
    "    storage_path: str = SchemaField(..., description=\"Path to the storage directory.\")\n",
    "    max_size_mb: int = SchemaField(default=100, ge=10, le=1024, description=\"Maximum storage size in MB.\")\n",
    "    backup_enabled: bool = SchemaField(default=True, description=\"Enable backup for stored files.\")\n",
    "\n",
    "\n",
    "class CloudStorageConfig(BaseSchema):\n",
    "    provider: Literal['aws', 'gcp', 'azure'] = SchemaField(..., description=\"Cloud storage provider.\")\n",
    "    bucket_name: str = SchemaField(..., min_length=3, description=\"Name of the cloud storage bucket.\")\n",
    "    region: Optional[str] = SchemaField(None, description=\"Optional region of the cloud storage bucket.\")"
   ]
  },
  {
   "cell_type": "markdown",
   "metadata": {},
   "source": [
    "## Registrating Schemas"
   ]
  },
  {
   "cell_type": "code",
   "execution_count": 3,
   "metadata": {},
   "outputs": [],
   "source": [
    "confflow.register_schemas(\n",
    "    CommonSettings,\n",
    "    FeatureFlags,\n",
    "    CloudStorageConfig,\n",
    "    DatabaseConfig\n",
    ")"
   ]
  },
  {
   "cell_type": "code",
   "execution_count": null,
   "metadata": {},
   "outputs": [],
   "source": [
    "# TODO mutual exlusion directly as list!\n",
    "confflow.register_schemas(\n",
    "    CommonSettings,\n",
    "    FeatureFlags,\n",
    "    [\n",
    "        CloudStorageConfig,\n",
    "        DatabaseConfig\n",
    "    ]\n",
    ")"
   ]
  },
  {
   "cell_type": "code",
   "execution_count": 4,
   "metadata": {},
   "outputs": [],
   "source": [
    "confflow.set_mutual_exclusive_groups([CloudStorageConfig, DatabaseConfig])"
   ]
  },
  {
   "cell_type": "code",
   "execution_count": null,
   "metadata": {},
   "outputs": [],
   "source": [
    "confflow.create_template(\"template_config.yml\")"
   ]
  },
  {
   "cell_type": "code",
   "execution_count": null,
   "metadata": {},
   "outputs": [],
   "source": [
    "confflow.load_yaml(\"config.yml\")"
   ]
  },
  {
   "cell_type": "code",
   "execution_count": null,
   "metadata": {},
   "outputs": [],
   "source": [
    "confflow[\"CommonSettings\"]"
   ]
  },
  {
   "cell_type": "code",
   "execution_count": null,
   "metadata": {},
   "outputs": [],
   "source": [
    "confflow[\"CommonSettings\"][\"enabled\"]"
   ]
  }
 ],
 "metadata": {
  "kernelspec": {
   "display_name": "confflow-d0DuQGJT-py3.10",
   "language": "python",
   "name": "python3"
  },
  "language_info": {
   "codemirror_mode": {
    "name": "ipython",
    "version": 3
   },
   "file_extension": ".py",
   "mimetype": "text/x-python",
   "name": "python",
   "nbconvert_exporter": "python",
   "pygments_lexer": "ipython3",
   "version": "3.10.16"
  }
 },
 "nbformat": 4,
 "nbformat_minor": 2
}
